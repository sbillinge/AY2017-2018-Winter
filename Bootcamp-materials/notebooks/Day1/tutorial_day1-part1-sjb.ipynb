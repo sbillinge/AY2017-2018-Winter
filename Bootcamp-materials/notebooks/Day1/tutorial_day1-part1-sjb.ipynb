{
 "cells": [
  {
   "cell_type": "markdown",
   "metadata": {},
   "source": [
    "## Introduction to Exploratory Data Analysis and Visualization\n",
    "\n",
    "In this lab, we will cover some basic EDAV tools and provide an example using _presidential speeches_."
   ]
  },
  {
   "cell_type": "markdown",
   "metadata": {},
   "source": [
    "<a id=\"part1\"></a>\n",
    "## Part 1: Simple summaries and graphs\n",
    "\n",
    "This part of the lab was based on data set 1 from the [1st collaboratory boot camp during winter 2016-2017](https://github.com/DS-BootCamp-Collaboratory-Columbia/AY2016-2017-Winter). "
   ]
  },
  {
   "cell_type": "markdown",
   "metadata": {},
   "source": [
    "Data set: 2016 Presidential Election Results (Manually constructed using various online resources.)\n",
    "\n",
    "We'll look at three sets of data collected from the 51 states. They include:\n",
    "\n",
    "1. 2016 Presidential election results\n",
    "2. 2015 Median annual hosehold income\n",
    "3. 2015 Monthly average number of person participating in the the food stamp program\n",
    "\n",
    "Across the states, we'll summarize basic statistics and study the relationship among variables."
   ]
  },
  {
   "cell_type": "code",
   "execution_count": 1,
   "metadata": {
    "collapsed": true
   },
   "outputs": [],
   "source": [
    "import numpy as np\n",
    "import pandas as pd\n",
    "import matplotlib.pyplot as plt\n",
    "\n",
    "elec_data = pd.read_csv('../data/2016_election_data/2016_presidential_election_results.tsv', delimiter='\\t')\n",
    "fs_data = pd.read_csv('../data/2016_election_data/2015_monthly_average_of_person_participating_in_food_stamp_program.tsv', delimiter='\\t')\n",
    "income_data = pd.read_csv('../data/2016_election_data/2015_median_annual_hosehold_income.tsv', delimiter='\\t')"
   ]
  },
  {
   "cell_type": "markdown",
   "metadata": {},
   "source": [
    "We'll also load two auxilary collections that will help us obtain better statistics and will also help us to better visualize the data. They are:\n",
    "\n",
    "* 2015 Population across states\n",
    "* State Abbreviations"
   ]
  },
  {
   "cell_type": "code",
   "execution_count": 2,
   "metadata": {
    "collapsed": true
   },
   "outputs": [],
   "source": [
    "sa = pd.read_csv('../data/2016_election_data/state_abbreviations.tsv', delimiter='\\t')\n",
    "census_data = pd.read_csv('../data/2016_election_data/population_by_state.tsv', delimiter='\\t')"
   ]
  },
  {
   "cell_type": "code",
   "execution_count": 14,
   "metadata": {},
   "outputs": [
    {
     "data": {
      "text/html": [
       "<div>\n",
       "<style>\n",
       "    .dataframe thead tr:only-child th {\n",
       "        text-align: right;\n",
       "    }\n",
       "\n",
       "    .dataframe thead th {\n",
       "        text-align: left;\n",
       "    }\n",
       "\n",
       "    .dataframe tbody tr th {\n",
       "        vertical-align: top;\n",
       "    }\n",
       "</style>\n",
       "<table border=\"1\" class=\"dataframe\">\n",
       "  <thead>\n",
       "    <tr style=\"text-align: right;\">\n",
       "      <th></th>\n",
       "      <th>State</th>\n",
       "      <th>Sum</th>\n",
       "      <th>Dem_EV</th>\n",
       "      <th>Rep_EV</th>\n",
       "      <th>Unalloc_EV</th>\n",
       "      <th>Clinton</th>\n",
       "      <th>Trump</th>\n",
       "      <th>Johnson</th>\n",
       "      <th>Other</th>\n",
       "      <th>Participation</th>\n",
       "      <th>Median_Income</th>\n",
       "      <th>Abbr</th>\n",
       "      <th>Population</th>\n",
       "      <th>Trump_perc</th>\n",
       "      <th>Clinton_perc</th>\n",
       "      <th>fs_perc</th>\n",
       "      <th>vote_perc</th>\n",
       "      <th>Trump_win</th>\n",
       "    </tr>\n",
       "  </thead>\n",
       "  <tbody>\n",
       "    <tr>\n",
       "      <th>0</th>\n",
       "      <td>Alabama</td>\n",
       "      <td>2123372</td>\n",
       "      <td>0</td>\n",
       "      <td>9</td>\n",
       "      <td>0</td>\n",
       "      <td>729547</td>\n",
       "      <td>1318255</td>\n",
       "      <td>44467</td>\n",
       "      <td>31103</td>\n",
       "      <td>889380</td>\n",
       "      <td>44509</td>\n",
       "      <td>AL</td>\n",
       "      <td>4863300</td>\n",
       "      <td>0.630060</td>\n",
       "      <td>0.272120</td>\n",
       "      <td>0.182876</td>\n",
       "      <td>0.430216</td>\n",
       "      <td>True</td>\n",
       "    </tr>\n",
       "    <tr>\n",
       "      <th>1</th>\n",
       "      <td>Alaska</td>\n",
       "      <td>318608</td>\n",
       "      <td>0</td>\n",
       "      <td>3</td>\n",
       "      <td>0</td>\n",
       "      <td>116454</td>\n",
       "      <td>163387</td>\n",
       "      <td>18725</td>\n",
       "      <td>20042</td>\n",
       "      <td>81121</td>\n",
       "      <td>75112</td>\n",
       "      <td>AK</td>\n",
       "      <td>738432</td>\n",
       "      <td>0.547239</td>\n",
       "      <td>0.337060</td>\n",
       "      <td>0.109856</td>\n",
       "      <td>0.404324</td>\n",
       "      <td>True</td>\n",
       "    </tr>\n",
       "    <tr>\n",
       "      <th>2</th>\n",
       "      <td>Arizona</td>\n",
       "      <td>2604657</td>\n",
       "      <td>0</td>\n",
       "      <td>11</td>\n",
       "      <td>0</td>\n",
       "      <td>1161167</td>\n",
       "      <td>1252401</td>\n",
       "      <td>106327</td>\n",
       "      <td>84762</td>\n",
       "      <td>999401</td>\n",
       "      <td>52248</td>\n",
       "      <td>AZ</td>\n",
       "      <td>6931071</td>\n",
       "      <td>0.497005</td>\n",
       "      <td>0.444699</td>\n",
       "      <td>0.144191</td>\n",
       "      <td>0.363565</td>\n",
       "      <td>True</td>\n",
       "    </tr>\n",
       "    <tr>\n",
       "      <th>3</th>\n",
       "      <td>Arkansas</td>\n",
       "      <td>1130635</td>\n",
       "      <td>0</td>\n",
       "      <td>6</td>\n",
       "      <td>0</td>\n",
       "      <td>380494</td>\n",
       "      <td>684872</td>\n",
       "      <td>29829</td>\n",
       "      <td>35440</td>\n",
       "      <td>468904</td>\n",
       "      <td>42798</td>\n",
       "      <td>AR</td>\n",
       "      <td>2988248</td>\n",
       "      <td>0.625343</td>\n",
       "      <td>0.271864</td>\n",
       "      <td>0.156916</td>\n",
       "      <td>0.366501</td>\n",
       "      <td>True</td>\n",
       "    </tr>\n",
       "    <tr>\n",
       "      <th>4</th>\n",
       "      <td>California</td>\n",
       "      <td>14237884</td>\n",
       "      <td>55</td>\n",
       "      <td>0</td>\n",
       "      <td>0</td>\n",
       "      <td>8753788</td>\n",
       "      <td>4483810</td>\n",
       "      <td>478500</td>\n",
       "      <td>521786</td>\n",
       "      <td>4417772</td>\n",
       "      <td>63636</td>\n",
       "      <td>CA</td>\n",
       "      <td>39250017</td>\n",
       "      <td>0.326901</td>\n",
       "      <td>0.926707</td>\n",
       "      <td>0.112555</td>\n",
       "      <td>0.349455</td>\n",
       "      <td>False</td>\n",
       "    </tr>\n",
       "  </tbody>\n",
       "</table>\n",
       "</div>"
      ],
      "text/plain": [
       "        State       Sum  Dem_EV  Rep_EV  Unalloc_EV  Clinton    Trump  \\\n",
       "0     Alabama   2123372       0       9           0   729547  1318255   \n",
       "1      Alaska    318608       0       3           0   116454   163387   \n",
       "2     Arizona   2604657       0      11           0  1161167  1252401   \n",
       "3    Arkansas   1130635       0       6           0   380494   684872   \n",
       "4  California  14237884      55       0           0  8753788  4483810   \n",
       "\n",
       "   Johnson   Other  Participation  Median_Income Abbr  Population  Trump_perc  \\\n",
       "0    44467   31103         889380          44509   AL     4863300    0.630060   \n",
       "1    18725   20042          81121          75112   AK      738432    0.547239   \n",
       "2   106327   84762         999401          52248   AZ     6931071    0.497005   \n",
       "3    29829   35440         468904          42798   AR     2988248    0.625343   \n",
       "4   478500  521786        4417772          63636   CA    39250017    0.326901   \n",
       "\n",
       "   Clinton_perc   fs_perc  vote_perc  Trump_win  \n",
       "0      0.272120  0.182876   0.430216       True  \n",
       "1      0.337060  0.109856   0.404324       True  \n",
       "2      0.444699  0.144191   0.363565       True  \n",
       "3      0.271864  0.156916   0.366501       True  \n",
       "4      0.926707  0.112555   0.349455      False  "
      ]
     },
     "execution_count": 14,
     "metadata": {},
     "output_type": "execute_result"
    }
   ],
   "source": [
    "# Merge datasets into one dataframe.\n",
    "\n",
    "df=pd.merge(elec_data, fs_data, on='State')\n",
    "df=pd.merge(df, income_data, on=\"State\")\n",
    "df=pd.merge(df, sa, on=\"State\")\n",
    "df=pd.merge(df, census_data, on=\"State\")\n",
    "\n",
    "df['Trump_perc']=df['Trump']/(df['Clinton']+df['Trump']+df['Johnson'])\n",
    "df['Clinton_perc']=df['Clinton']/(df['Trump']+df['Trump']+df['Johnson'])\n",
    "df['fs_perc']=df['Participation']/df['Population']\n",
    "df['vote_perc']=(df['Clinton']+df['Trump']+df['Johnson'])/df['Population']\n",
    "df['Trump_win']=(df['Trump_perc']>df['Clinton_perc'])\n",
    "\n",
    "df.head(n=5)"
   ]
  },
  {
   "cell_type": "markdown",
   "metadata": {},
   "source": [
    "We first look at the distribution of food stamp percents. "
   ]
  },
  {
   "cell_type": "code",
   "execution_count": 16,
   "metadata": {},
   "outputs": [
    {
     "name": "stdout",
     "output_type": "stream",
     "text": [
      "0.13974763420682848\n"
     ]
    },
    {
     "data": {
      "image/png": "[encoded data removed]",
      "text/plain": [
       "<matplotlib.figure.Figure at 0x262a5237400>"
      ]
     },
     "metadata": {},
     "output_type": "display_data"
    }
   ],
   "source": [
    "df.fs_perc.astype(float).plot('hist', alpha=0.5)\n",
    "\n",
    "fs_mean = np.mean(df.fs_perc.astype(float))\n",
    "print(fs_mean)\n",
    "\n",
    "plt.title('Histogram of Food Stame Percent: mean ='+format(fs_mean, '.3f'))\n",
    "\n",
    "plt.show()"
   ]
  },
  {
   "cell_type": "markdown",
   "metadata": {},
   "source": [
    "###  Task 1\n",
    "\n",
    "Add [standard deviation](https://docs.scipy.org/doc/numpy-1.13.0/reference/generated/numpy.std.html) to the title of the histogram. \n"
   ]
  },
  {
   "cell_type": "code",
   "execution_count": 19,
   "metadata": {},
   "outputs": [
    {
     "name": "stdout",
     "output_type": "stream",
     "text": [
      "0.037899916678716186\n"
     ]
    },
    {
     "data": {
      "image/png": "[encoded data removed]",
      "text/plain": [
       "<matplotlib.figure.Figure at 0x262a5846ac8>"
      ]
     },
     "metadata": {},
     "output_type": "display_data"
    }
   ],
   "source": [
    "df.fs_perc.astype(float).plot('hist', alpha=0.5)\n",
    "\n",
    "fs_sd = np.std(df.fs_perc.astype(float))\n",
    "print(fs_sd)\n",
    "\n",
    "plt.title('Food Stamp Percent: mean = '+format(fs_mean, '.3f')+' Standard Deviation = '+format(fs_sd, '.3f'))\n",
    "\n",
    "plt.show()"
   ]
  },
  {
   "cell_type": "markdown",
   "metadata": {},
   "source": [
    "The following visualization uses [plot.ly](https://plot.ly/python/getting-started/) (a powerful interactive visualization tool). Please click on the link and install plot.ly's python package. "
   ]
  },
  {
   "cell_type": "markdown",
   "metadata": {},
   "source": [
    "### Task 2\n",
    "Follow the instruction from [plot.ly](https://plot.ly/python/getting-started/) to setup free account and API credentials. "
   ]
  },
  {
   "cell_type": "code",
   "execution_count": 10,
   "metadata": {
    "collapsed": true
   },
   "outputs": [],
   "source": [
    "import plotly\n",
    "plotly.tools.set_credentials_file(username='sbillinge', api_key='uM1WdwTMZKLaLWQYfw0j')"
   ]
  },
  {
   "cell_type": "code",
   "execution_count": 11,
   "metadata": {
    "collapsed": true
   },
   "outputs": [],
   "source": [
    "import plotly.plotly as py"
   ]
  },
  {
   "cell_type": "code",
   "execution_count": 8,
   "metadata": {
    "collapsed": true
   },
   "outputs": [],
   "source": []
  },
  {
   "cell_type": "code",
   "execution_count": 12,
   "metadata": {
    "scrolled": true
   },
   "outputs": [
    {
     "name": "stdout",
     "output_type": "stream",
     "text": [
      "High five! You successfully sent some data to your account on plotly. View your plot in your browser at https://plot.ly/~sbillinge/0 or inside your plot.ly account where it is named 'd3-cloropleth-map'\n"
     ]
    },
    {
     "data": {
      "text/html": [
       "<iframe id=\"igraph\" scrolling=\"no\" style=\"border:none;\" seamless=\"seamless\" src=\"https://plot.ly/~sbillinge/0.embed\" height=\"525px\" width=\"100%\"></iframe>"
      ],
      "text/plain": [
       "<plotly.tools.PlotlyDisplay object>"
      ]
     },
     "execution_count": 12,
     "metadata": {},
     "output_type": "execute_result"
    }
   ],
   "source": [
    "for col in df.columns:\n",
    "    df[col] = df[col].astype(str)\n",
    "\n",
    "scl = [[0.0, 'rgb(242,240,247)'],[0.2, 'rgb(218,218,235)'],[0.4, 'rgb(188,189,220)'],\\\n",
    "            [0.6, 'rgb(158,154,200)'],[0.8, 'rgb(117,107,177)'],[1.0, 'rgb(84,39,143)']]\n",
    "\n",
    "df['text'] = df['State'] + '<br>' +\\\n",
    "    'Population '+df['Population']+'<br>'+\\\n",
    "    'Med. Income '+df['Median_Income']+'<br>'+\\\n",
    "    'Food stamp participation '+ df['fs_perc']+'<br>'+\\\n",
    "    'Voted for Trump ' + df['Trump_perc']+'<br>'+\\\n",
    "    'Voter turn out '+df['vote_perc']\n",
    "\n",
    "data = [ dict(\n",
    "        type='choropleth',\n",
    "        colorscale = scl,\n",
    "        autocolorscale = False,\n",
    "        locations = df['Abbr'],\n",
    "        z = df['Trump_perc'].astype(float),\n",
    "        locationmode = 'USA-states',\n",
    "        text = df['text'],\n",
    "        marker = dict(\n",
    "            line = dict (\n",
    "                color = 'rgb(255,255,255)',\n",
    "                width = 2\n",
    "            ) ),\n",
    "        colorbar = dict(\n",
    "            title = \"Fraction of votes for Trump\")\n",
    "        ) ]\n",
    "\n",
    "layout = dict(\n",
    "        title = '2016 US General Election Results by State<br>(Hover for more stats)',\n",
    "        geo = dict(\n",
    "            scope='usa',\n",
    "            projection=dict( type='albers usa' ),\n",
    "            showlakes = True,\n",
    "            lakecolor = 'rgb(255, 255, 255)'),\n",
    "             )\n",
    "    \n",
    "fig = dict( data=data, layout=layout )\n",
    "py.iplot( fig, filename='d3-cloropleth-map' )"
   ]
  },
  {
   "cell_type": "markdown",
   "metadata": {},
   "source": [
    "### Task 3\n",
    "Now, you try visualize a map of the voter turn out. "
   ]
  },
  {
   "cell_type": "code",
   "execution_count": 23,
   "metadata": {},
   "outputs": [
    {
     "data": {
      "text/html": [
       "<script>requirejs.config({paths: { 'plotly': ['https://cdn.plot.ly/plotly-latest.min']},});if(!window.Plotly) {{require(['plotly'],function(plotly) {window.Plotly=plotly;});}}</script>"
      ],
      "text/vnd.plotly.v1+html": [
       "<script>requirejs.config({paths: { 'plotly': ['https://cdn.plot.ly/plotly-latest.min']},});if(!window.Plotly) {{require(['plotly'],function(plotly) {window.Plotly=plotly;});}}</script>"
      ]
     },
     "metadata": {},
     "output_type": "display_data"
    },
    {
     "data": {
      "application/vnd.plotly.v1+json": {
       "data": [
        {
         "autocolorscale": false,
         "colorbar": {
          "title": "Voter turnout (percent)"
         },
         "colorscale": [
          [
           0,
           "rgb(242,240,247)"
          ],
          [
           0.2,
           "rgb(218,218,235)"
          ],
          [
           0.4,
           "rgb(188,189,220)"
          ],
          [
           0.6,
           "rgb(158,154,200)"
          ],
          [
           0.8,
           "rgb(117,107,177)"
          ],
          [
           1,
           "rgb(84,39,143)"
          ]
         ],
         "locationmode": "USA-states",
         "locations": [
          "AL",
          "AK",
          "AZ",
          "AR",
          "CA",
          "CO",
          "CT",
          "DE",
          "D.C.",
          "FL",
          "GA",
          "HI",
          "ID",
          "IL",
          "IN",
          "IA",
          "KS",
          "KY",
          "LA",
          "ME",
          "MD",
          "MA",
          "MI",
          "MN",
          "MS",
          "MO",
          "MT",
          "NE",
          "NV",
          "NH",
          "NJ",
          "NM",
          "NY",
          "NC",
          "ND",
          "OH",
          "OK",
          "OR",
          "PA",
          "RI",
          "SC",
          "SD",
          "TN",
          "TX",
          "UT",
          "VT",
          "VA",
          "WA",
          "WV",
          "WI",
          "WY"
         ],
         "marker": {
          "line": {
           "color": "rgb(255,255,255)",
           "width": 2
          }
         },
         "text": [
          "Alabama<br>Population 4863300<br>Med. Income 44509<br>Food stamp participation 0.182875825057<br>Voted for Trump 0.630059997065<br>Voter turn out 0.430215902782",
          "Alaska<br>Population 738432<br>Med. Income 75112<br>Food stamp participation 0.109855748397<br>Voted for Trump 0.547239136405<br>Voter turn out 0.404324297972",
          "Arizona<br>Population 6931071<br>Med. Income 52248<br>Food stamp participation 0.144191424384<br>Voted for Trump 0.497005232361<br>Voter turn out 0.363565024799",
          "Arkansas<br>Population 2988248<br>Med. Income 42798<br>Food stamp participation 0.156916025711<br>Voted for Trump 0.625342518912<br>Voter turn out 0.36650070543",
          "California<br>Population 39250017<br>Med. Income 63636<br>Food stamp participation 0.112554651887<br>Voted for Trump 0.326901280525<br>Voter turn out 0.349454574759",
          "Colorado<br>Population 5540545<br>Med. Income 66596<br>Food stamp participation 0.0893655768521<br>Voted for Trump 0.447773298951<br>Voter turn out 0.484695097684",
          "Connecticut<br>Population 3576452<br>Med. Income 72889<br>Food stamp participation 0.12363118532<br>Voted for Trump 0.415702612533<br>Voter turn out 0.452812731724",
          "Delaware<br>Population 945934<br>Med. Income 57756<br>Food stamp participation 0.158553345159<br>Voted for Trump 0.425103389998<br>Voter turn out 0.460377785342",
          "District of Columbia<br>Population 672228<br>Med. Income 70071<br>Food stamp participation 0.211007277293<br>Voted for Trump 0.0423452118259<br>Voter turn out 0.446959960014",
          "Florida<br>Population 20612439<br>Med. Income 48825<br>Food stamp participation 0.177376825712<br>Voted for Trump 0.494955360741<br>Voter turn out 0.452634644546",
          "Georgia<br>Population 10310371<br>Med. Income 50768<br>Food stamp participation 0.174632998172<br>Voted for Trump 0.510487191661<br>Voter turn out 0.39691811284",
          "Hawaii<br>Population 1428557<br>Med. Income 64514<br>Food stamp participation 0.132227835501<br>Voted for Trump 0.312969404312<br>Voter turn out 0.288187310692",
          "Idaho<br>Population 1683140<br>Med. Income 51624<br>Food stamp participation 0.116967097211<br>Voted for Trump 0.652243239666<br>Voter turn out 0.372607745048",
          "Illinois<br>Population 12801539<br>Med. Income 60413<br>Food stamp participation 0.159535974542<br>Voted for Trump 0.394028834043<br>Voter turn out 0.425444159487",
          "Indiana<br>Population 6633053<br>Med. Income 51983<br>Food stamp participation 0.125393238981<br>Voted for Trump 0.571605910281<br>Voter turn out 0.410731679665",
          "Iowa<br>Population 3134693<br>Med. Income 60855<br>Food stamp participation 0.124804566189<br>Voted for Trump 0.529107473851<br>Voter turn out 0.482930226341",
          "Kansas<br>Population 2907289<br>Med. Income 54865<br>Food stamp participation 0.0942369334456<br>Voted for Trump 0.581759258697<br>Voter turn out 0.396736960103",
          "Kentucky<br>Population 4436974<br>Med. Income 42387<br>Food stamp participation 0.173289724033<br>Voted for Trump 0.637985613953<br>Voter turn out 0.42496913437",
          "Louisiana<br>Population 4681666<br>Med. Income 45922<br>Food stamp participation 0.183639328393<br>Voted for Trump 0.590272289748<br>Voter turn out 0.426508426701",
          "Maine<br>Population 1331479<br>Med. Income 50756<br>Food stamp participation 0.152145846836<br>Voted for Trump 0.458815776701<br>Voter turn out 0.549338742857",
          "Maryland<br>Population 6016447<br>Med. Income 73594<br>Food stamp participation 0.129816650924<br>Voted for Trump 0.349231051778<br>Voter turn out 0.448886527214",
          "Massachusetts<br>Population 6811779<br>Med. Income 67861<br>Food stamp participation 0.115355768295<br>Voted for Trump 0.33835508561<br>Voter turn out 0.473313505914",
          "Michigan<br>Population 9928301<br>Med. Income 54203<br>Food stamp participation 0.158269174152<br>Voted for Trump 0.482901029082<br>Voter turn out 0.475460806436",
          "Minnesota<br>Population 5519952<br>Med. Income 68730<br>Food stamp participation 0.0898600205219<br>Voted for Trump 0.471869238515<br>Voter turn out 0.507910032551",
          "Mississippi<br>Population 2988726<br>Med. Income 40037<br>Food stamp participation 0.212907439491<br>Voted for Trump 0.583792115173<br>Voter turn out 0.401602555738",
          "Missouri<br>Population 6093000<br>Med. Income 59196<br>Food stamp participation 0.13861759396<br>Voted for Trump 0.577107050538<br>Voter turn out 0.453461020844",
          "Montana<br>Population 1042520<br>Med. Income 51395<br>Food stamp participation 0.11422514676<br>Voted for Trump 0.575769197461<br>Voter turn out 0.465205463684",
          "Nebraska<br>Population 1907116<br>Med. Income 60474<br>Food stamp participation 0.0912854802749<br>Voted for Trump 0.605272632081<br>Voter turn out 0.429654514985",
          "Nevada<br>Population 2940058<br>Med. Income 52008<br>Food stamp participation 0.142994798062<br>Voted for Trump 0.47033807231<br>Voter turn out 0.370299497493",
          "New Hampshire<br>Population 1334795<br>Med. Income 75675<br>Food stamp participation 0.0796347004596<br>Voted for Trump 0.476890550591<br>Voter turn out 0.543224240426",
          "New Jersey<br>Population 8944469<br>Med. Income 68357<br>Food stamp participation 0.101261237531<br>Voted for Trump 0.419059311144<br>Voter turn out 0.427380093776",
          "New Mexico<br>Population 2081015<br>Med. Income 45119<br>Food stamp participation 0.217752394865<br>Voted for Trump 0.410122125985<br>Voter turn out 0.374548477546",
          "New York<br>Population 19745289<br>Med. Income 58005<br>Food stamp participation 0.153915599817<br>Voted for Trump 0.373364566999<br>Voter turn out 0.381784586693",
          "North Carolina<br>Population 10146788<br>Med. Income 50797<br>Food stamp participation 0.162238730128<br>Voted for Trump 0.504612166448<br>Voter turn out 0.461434002563",
          "North Dakota<br>Population 757952<br>Med. Income 57415<br>Food stamp participation 0.0701205353373<br>Voted for Trump 0.653021512955<br>Voter turn out 0.438003989699",
          "Ohio<br>Population 11614373<br>Med. Income 53301<br>Food stamp participation 0.144326602908<br>Voted for Trump 0.525171882114<br>Voter turn out 0.465773486007",
          "Oklahoma<br>Population 3923561<br>Med. Income 47077<br>Food stamp participation 0.152478067755<br>Voted for Trump 0.653228648196<br>Voter turn out 0.370324814626",
          "Oregon<br>Population 4093465<br>Med. Income 60834<br>Food stamp participation 0.190486299504<br>Voted for Trump 0.416450919233<br>Voter turn out 0.458960807042",
          "Pennsylvania<br>Population 12784227<br>Med. Income 60389<br>Food stamp participation 0.142884430948<br>Voted for Trump 0.491526730554<br>Voter turn out 0.472761395742",
          "Rhode Island<br>Population 1056426<br>Med. Income 55701<br>Food stamp participation 0.165676535791<br>Voted for Trump 0.40316515339<br>Voter turn out 0.423895284667",
          "South Carolina<br>Population 4961119<br>Med. Income 46360<br>Food stamp participation 0.162175509195<br>Voted for Trump 0.560877703807<br>Voter turn out 0.415222049703",
          "South Dakota<br>Population 865454<br>Med. Income 55065<br>Food stamp participation 0.113874336475<br>Voted for Trump 0.622139229405<br>Voter turn out 0.422932934622",
          "Tennessee<br>Population 6651194<br>Med. Income 47330<br>Food stamp participation 0.184837639678<br>Voted for Trump 0.618065946785<br>Voter turn out 0.370462356082",
          "Texas<br>Population 27862596<br>Med. Income 56473<br>Food stamp participation 0.13368058023<br>Voted for Trump 0.529598852958<br>Voter turn out 0.317501176129",
          "Utah<br>Population 3051217<br>Med. Income 66258<br>Food stamp participation 0.0739386939703<br>Voted for Trump 0.595288354332<br>Voter turn out 0.283662223959",
          "Vermont<br>Population 624594<br>Med. Income 59494<br>Food stamp participation 0.136078796786<br>Voted for Trump 0.33578269136<br>Voter turn out 0.454727390913",
          "Virginia<br>Population 8411808<br>Med. Income 61486<br>Food stamp participation 0.102281816228<br>Voted for Trump 0.457316130766<br>Voter turn out 0.459971268959",
          "Washington<br>Population 7288000<br>Med. Income 67243<br>Food stamp participation 0.146944703622<br>Voted for Trump 0.390916007966<br>Voter turn out 0.428834248079",
          "West Virginia<br>Population 1831102<br>Med. Income 42824<br>Food stamp participation 0.200921630799<br>Voted for Trump 0.697935875659<br>Voter turn out 0.382921868907",
          "Wisconsin<br>Population 5778708<br>Med. Income 55425<br>Food stamp participation 0.139397941547<br>Voted for Trump 0.485502474699<br>Voter turn out 0.50088947218",
          "Wyoming<br>Population 585501<br>Med. Income 60925<br>Food stamp participation 0.0556890594551<br>Voted for Trump 0.715773620213<br>Voter turn out 0.416188870728"
         ],
         "type": "choropleth",
         "z": [
          0.430215902782,
          0.404324297972,
          0.363565024799,
          0.36650070543,
          0.349454574759,
          0.484695097684,
          0.452812731724,
          0.460377785342,
          0.446959960014,
          0.452634644546,
          0.39691811284,
          0.288187310692,
          0.372607745048,
          0.425444159487,
          0.410731679665,
          0.482930226341,
          0.396736960103,
          0.42496913437,
          0.426508426701,
          0.549338742857,
          0.448886527214,
          0.473313505914,
          0.475460806436,
          0.507910032551,
          0.401602555738,
          0.453461020844,
          0.465205463684,
          0.429654514985,
          0.370299497493,
          0.543224240426,
          0.427380093776,
          0.374548477546,
          0.381784586693,
          0.461434002563,
          0.438003989699,
          0.465773486007,
          0.370324814626,
          0.458960807042,
          0.472761395742,
          0.423895284667,
          0.415222049703,
          0.422932934622,
          0.370462356082,
          0.317501176129,
          0.283662223959,
          0.454727390913,
          0.459971268959,
          0.428834248079,
          0.382921868907,
          0.50088947218,
          0.416188870728
         ]
        }
       ],
       "layout": {
        "geo": {
         "lakecolor": "rgb(255, 255, 255)",
         "projection": {
          "type": "albers usa"
         },
         "scope": "usa",
         "showlakes": true
        },
        "title": "2016 US General Election Results by State<br>(Hover for more stats)"
       }
      },
      "text/html": [
       "<div id=\"70303502-7493-4f2c-bfe2-53c6529acc0d\" style=\"height: 525px; width: 100%;\" class=\"plotly-graph-div\"></div><script type=\"text/javascript\">require([\"plotly\"], function(Plotly) { window.PLOTLYENV=window.PLOTLYENV || {};window.PLOTLYENV.BASE_URL=\"https://plot.ly\";Plotly.newPlot(\"70303502-7493-4f2c-bfe2-53c6529acc0d\", [{\"type\": \"choropleth\", \"colorscale\": [[0.0, \"rgb(242,240,247)\"], [0.2, \"rgb(218,218,235)\"], [0.4, \"rgb(188,189,220)\"], [0.6, \"rgb(158,154,200)\"], [0.8, \"rgb(117,107,177)\"], [1.0, \"rgb(84,39,143)\"]], \"autocolorscale\": false, \"locations\": [\"AL\", \"AK\", \"AZ\", \"AR\", \"CA\", \"CO\", \"CT\", \"DE\", \"D.C.\", \"FL\", \"GA\", \"HI\", \"ID\", \"IL\", \"IN\", \"IA\", \"KS\", \"KY\", \"LA\", \"ME\", \"MD\", \"MA\", \"MI\", \"MN\", \"MS\", \"MO\", \"MT\", \"NE\", \"NV\", \"NH\", \"NJ\", \"NM\", \"NY\", \"NC\", \"ND\", \"OH\", \"OK\", \"OR\", \"PA\", \"RI\", \"SC\", \"SD\", \"TN\", \"TX\", \"UT\", \"VT\", \"VA\", \"WA\", \"WV\", \"WI\", \"WY\"], \"z\": [0.430215902782, 0.404324297972, 0.363565024799, 0.36650070543, 0.349454574759, 0.484695097684, 0.452812731724, 0.460377785342, 0.446959960014, 0.452634644546, 0.39691811284, 0.288187310692, 0.372607745048, 0.425444159487, 0.410731679665, 0.482930226341, 0.396736960103, 0.42496913437, 0.426508426701, 0.549338742857, 0.448886527214, 0.473313505914, 0.475460806436, 0.507910032551, 0.401602555738, 0.453461020844, 0.465205463684, 0.429654514985, 0.370299497493, 0.543224240426, 0.427380093776, 0.374548477546, 0.381784586693, 0.461434002563, 0.438003989699, 0.465773486007, 0.370324814626, 0.458960807042, 0.472761395742, 0.423895284667, 0.415222049703, 0.422932934622, 0.370462356082, 0.317501176129, 0.283662223959, 0.454727390913, 0.459971268959, 0.428834248079, 0.382921868907, 0.50088947218, 0.416188870728], \"locationmode\": \"USA-states\", \"text\": [\"Alabama<br>Population 4863300<br>Med. Income 44509<br>Food stamp participation 0.182875825057<br>Voted for Trump 0.630059997065<br>Voter turn out 0.430215902782\", \"Alaska<br>Population 738432<br>Med. Income 75112<br>Food stamp participation 0.109855748397<br>Voted for Trump 0.547239136405<br>Voter turn out 0.404324297972\", \"Arizona<br>Population 6931071<br>Med. Income 52248<br>Food stamp participation 0.144191424384<br>Voted for Trump 0.497005232361<br>Voter turn out 0.363565024799\", \"Arkansas<br>Population 2988248<br>Med. Income 42798<br>Food stamp participation 0.156916025711<br>Voted for Trump 0.625342518912<br>Voter turn out 0.36650070543\", \"California<br>Population 39250017<br>Med. Income 63636<br>Food stamp participation 0.112554651887<br>Voted for Trump 0.326901280525<br>Voter turn out 0.349454574759\", \"Colorado<br>Population 5540545<br>Med. Income 66596<br>Food stamp participation 0.0893655768521<br>Voted for Trump 0.447773298951<br>Voter turn out 0.484695097684\", \"Connecticut<br>Population 3576452<br>Med. Income 72889<br>Food stamp participation 0.12363118532<br>Voted for Trump 0.415702612533<br>Voter turn out 0.452812731724\", \"Delaware<br>Population 945934<br>Med. Income 57756<br>Food stamp participation 0.158553345159<br>Voted for Trump 0.425103389998<br>Voter turn out 0.460377785342\", \"District of Columbia<br>Population 672228<br>Med. Income 70071<br>Food stamp participation 0.211007277293<br>Voted for Trump 0.0423452118259<br>Voter turn out 0.446959960014\", \"Florida<br>Population 20612439<br>Med. Income 48825<br>Food stamp participation 0.177376825712<br>Voted for Trump 0.494955360741<br>Voter turn out 0.452634644546\", \"Georgia<br>Population 10310371<br>Med. Income 50768<br>Food stamp participation 0.174632998172<br>Voted for Trump 0.510487191661<br>Voter turn out 0.39691811284\", \"Hawaii<br>Population 1428557<br>Med. Income 64514<br>Food stamp participation 0.132227835501<br>Voted for Trump 0.312969404312<br>Voter turn out 0.288187310692\", \"Idaho<br>Population 1683140<br>Med. Income 51624<br>Food stamp participation 0.116967097211<br>Voted for Trump 0.652243239666<br>Voter turn out 0.372607745048\", \"Illinois<br>Population 12801539<br>Med. Income 60413<br>Food stamp participation 0.159535974542<br>Voted for Trump 0.394028834043<br>Voter turn out 0.425444159487\", \"Indiana<br>Population 6633053<br>Med. Income 51983<br>Food stamp participation 0.125393238981<br>Voted for Trump 0.571605910281<br>Voter turn out 0.410731679665\", \"Iowa<br>Population 3134693<br>Med. Income 60855<br>Food stamp participation 0.124804566189<br>Voted for Trump 0.529107473851<br>Voter turn out 0.482930226341\", \"Kansas<br>Population 2907289<br>Med. Income 54865<br>Food stamp participation 0.0942369334456<br>Voted for Trump 0.581759258697<br>Voter turn out 0.396736960103\", \"Kentucky<br>Population 4436974<br>Med. Income 42387<br>Food stamp participation 0.173289724033<br>Voted for Trump 0.637985613953<br>Voter turn out 0.42496913437\", \"Louisiana<br>Population 4681666<br>Med. Income 45922<br>Food stamp participation 0.183639328393<br>Voted for Trump 0.590272289748<br>Voter turn out 0.426508426701\", \"Maine<br>Population 1331479<br>Med. Income 50756<br>Food stamp participation 0.152145846836<br>Voted for Trump 0.458815776701<br>Voter turn out 0.549338742857\", \"Maryland<br>Population 6016447<br>Med. Income 73594<br>Food stamp participation 0.129816650924<br>Voted for Trump 0.349231051778<br>Voter turn out 0.448886527214\", \"Massachusetts<br>Population 6811779<br>Med. Income 67861<br>Food stamp participation 0.115355768295<br>Voted for Trump 0.33835508561<br>Voter turn out 0.473313505914\", \"Michigan<br>Population 9928301<br>Med. Income 54203<br>Food stamp participation 0.158269174152<br>Voted for Trump 0.482901029082<br>Voter turn out 0.475460806436\", \"Minnesota<br>Population 5519952<br>Med. Income 68730<br>Food stamp participation 0.0898600205219<br>Voted for Trump 0.471869238515<br>Voter turn out 0.507910032551\", \"Mississippi<br>Population 2988726<br>Med. Income 40037<br>Food stamp participation 0.212907439491<br>Voted for Trump 0.583792115173<br>Voter turn out 0.401602555738\", \"Missouri<br>Population 6093000<br>Med. Income 59196<br>Food stamp participation 0.13861759396<br>Voted for Trump 0.577107050538<br>Voter turn out 0.453461020844\", \"Montana<br>Population 1042520<br>Med. Income 51395<br>Food stamp participation 0.11422514676<br>Voted for Trump 0.575769197461<br>Voter turn out 0.465205463684\", \"Nebraska<br>Population 1907116<br>Med. Income 60474<br>Food stamp participation 0.0912854802749<br>Voted for Trump 0.605272632081<br>Voter turn out 0.429654514985\", \"Nevada<br>Population 2940058<br>Med. Income 52008<br>Food stamp participation 0.142994798062<br>Voted for Trump 0.47033807231<br>Voter turn out 0.370299497493\", \"New Hampshire<br>Population 1334795<br>Med. Income 75675<br>Food stamp participation 0.0796347004596<br>Voted for Trump 0.476890550591<br>Voter turn out 0.543224240426\", \"New Jersey<br>Population 8944469<br>Med. Income 68357<br>Food stamp participation 0.101261237531<br>Voted for Trump 0.419059311144<br>Voter turn out 0.427380093776\", \"New Mexico<br>Population 2081015<br>Med. Income 45119<br>Food stamp participation 0.217752394865<br>Voted for Trump 0.410122125985<br>Voter turn out 0.374548477546\", \"New York<br>Population 19745289<br>Med. Income 58005<br>Food stamp participation 0.153915599817<br>Voted for Trump 0.373364566999<br>Voter turn out 0.381784586693\", \"North Carolina<br>Population 10146788<br>Med. Income 50797<br>Food stamp participation 0.162238730128<br>Voted for Trump 0.504612166448<br>Voter turn out 0.461434002563\", \"North Dakota<br>Population 757952<br>Med. Income 57415<br>Food stamp participation 0.0701205353373<br>Voted for Trump 0.653021512955<br>Voter turn out 0.438003989699\", \"Ohio<br>Population 11614373<br>Med. Income 53301<br>Food stamp participation 0.144326602908<br>Voted for Trump 0.525171882114<br>Voter turn out 0.465773486007\", \"Oklahoma<br>Population 3923561<br>Med. Income 47077<br>Food stamp participation 0.152478067755<br>Voted for Trump 0.653228648196<br>Voter turn out 0.370324814626\", \"Oregon<br>Population 4093465<br>Med. Income 60834<br>Food stamp participation 0.190486299504<br>Voted for Trump 0.416450919233<br>Voter turn out 0.458960807042\", \"Pennsylvania<br>Population 12784227<br>Med. Income 60389<br>Food stamp participation 0.142884430948<br>Voted for Trump 0.491526730554<br>Voter turn out 0.472761395742\", \"Rhode Island<br>Population 1056426<br>Med. Income 55701<br>Food stamp participation 0.165676535791<br>Voted for Trump 0.40316515339<br>Voter turn out 0.423895284667\", \"South Carolina<br>Population 4961119<br>Med. Income 46360<br>Food stamp participation 0.162175509195<br>Voted for Trump 0.560877703807<br>Voter turn out 0.415222049703\", \"South Dakota<br>Population 865454<br>Med. Income 55065<br>Food stamp participation 0.113874336475<br>Voted for Trump 0.622139229405<br>Voter turn out 0.422932934622\", \"Tennessee<br>Population 6651194<br>Med. Income 47330<br>Food stamp participation 0.184837639678<br>Voted for Trump 0.618065946785<br>Voter turn out 0.370462356082\", \"Texas<br>Population 27862596<br>Med. Income 56473<br>Food stamp participation 0.13368058023<br>Voted for Trump 0.529598852958<br>Voter turn out 0.317501176129\", \"Utah<br>Population 3051217<br>Med. Income 66258<br>Food stamp participation 0.0739386939703<br>Voted for Trump 0.595288354332<br>Voter turn out 0.283662223959\", \"Vermont<br>Population 624594<br>Med. Income 59494<br>Food stamp participation 0.136078796786<br>Voted for Trump 0.33578269136<br>Voter turn out 0.454727390913\", \"Virginia<br>Population 8411808<br>Med. Income 61486<br>Food stamp participation 0.102281816228<br>Voted for Trump 0.457316130766<br>Voter turn out 0.459971268959\", \"Washington<br>Population 7288000<br>Med. Income 67243<br>Food stamp participation 0.146944703622<br>Voted for Trump 0.390916007966<br>Voter turn out 0.428834248079\", \"West Virginia<br>Population 1831102<br>Med. Income 42824<br>Food stamp participation 0.200921630799<br>Voted for Trump 0.697935875659<br>Voter turn out 0.382921868907\", \"Wisconsin<br>Population 5778708<br>Med. Income 55425<br>Food stamp participation 0.139397941547<br>Voted for Trump 0.485502474699<br>Voter turn out 0.50088947218\", \"Wyoming<br>Population 585501<br>Med. Income 60925<br>Food stamp participation 0.0556890594551<br>Voted for Trump 0.715773620213<br>Voter turn out 0.416188870728\"], \"marker\": {\"line\": {\"color\": \"rgb(255,255,255)\", \"width\": 2}}, \"colorbar\": {\"title\": \"Voter turnout (percent)\"}}], {\"title\": \"2016 US General Election Results by State<br>(Hover for more stats)\", \"geo\": {\"scope\": \"usa\", \"projection\": {\"type\": \"albers usa\"}, \"showlakes\": true, \"lakecolor\": \"rgb(255, 255, 255)\"}}, {\"showLink\": true, \"linkText\": \"Export to plot.ly\"})});</script>"
      ],
      "text/vnd.plotly.v1+html": [
       "<div id=\"70303502-7493-4f2c-bfe2-53c6529acc0d\" style=\"height: 525px; width: 100%;\" class=\"plotly-graph-div\"></div><script type=\"text/javascript\">require([\"plotly\"], function(Plotly) { window.PLOTLYENV=window.PLOTLYENV || {};window.PLOTLYENV.BASE_URL=\"https://plot.ly\";Plotly.newPlot(\"70303502-7493-4f2c-bfe2-53c6529acc0d\", [{\"type\": \"choropleth\", \"colorscale\": [[0.0, \"rgb(242,240,247)\"], [0.2, \"rgb(218,218,235)\"], [0.4, \"rgb(188,189,220)\"], [0.6, \"rgb(158,154,200)\"], [0.8, \"rgb(117,107,177)\"], [1.0, \"rgb(84,39,143)\"]], \"autocolorscale\": false, \"locations\": [\"AL\", \"AK\", \"AZ\", \"AR\", \"CA\", \"CO\", \"CT\", \"DE\", \"D.C.\", \"FL\", \"GA\", \"HI\", \"ID\", \"IL\", \"IN\", \"IA\", \"KS\", \"KY\", \"LA\", \"ME\", \"MD\", \"MA\", \"MI\", \"MN\", \"MS\", \"MO\", \"MT\", \"NE\", \"NV\", \"NH\", \"NJ\", \"NM\", \"NY\", \"NC\", \"ND\", \"OH\", \"OK\", \"OR\", \"PA\", \"RI\", \"SC\", \"SD\", \"TN\", \"TX\", \"UT\", \"VT\", \"VA\", \"WA\", \"WV\", \"WI\", \"WY\"], \"z\": [0.430215902782, 0.404324297972, 0.363565024799, 0.36650070543, 0.349454574759, 0.484695097684, 0.452812731724, 0.460377785342, 0.446959960014, 0.452634644546, 0.39691811284, 0.288187310692, 0.372607745048, 0.425444159487, 0.410731679665, 0.482930226341, 0.396736960103, 0.42496913437, 0.426508426701, 0.549338742857, 0.448886527214, 0.473313505914, 0.475460806436, 0.507910032551, 0.401602555738, 0.453461020844, 0.465205463684, 0.429654514985, 0.370299497493, 0.543224240426, 0.427380093776, 0.374548477546, 0.381784586693, 0.461434002563, 0.438003989699, 0.465773486007, 0.370324814626, 0.458960807042, 0.472761395742, 0.423895284667, 0.415222049703, 0.422932934622, 0.370462356082, 0.317501176129, 0.283662223959, 0.454727390913, 0.459971268959, 0.428834248079, 0.382921868907, 0.50088947218, 0.416188870728], \"locationmode\": \"USA-states\", \"text\": [\"Alabama<br>Population 4863300<br>Med. Income 44509<br>Food stamp participation 0.182875825057<br>Voted for Trump 0.630059997065<br>Voter turn out 0.430215902782\", \"Alaska<br>Population 738432<br>Med. Income 75112<br>Food stamp participation 0.109855748397<br>Voted for Trump 0.547239136405<br>Voter turn out 0.404324297972\", \"Arizona<br>Population 6931071<br>Med. Income 52248<br>Food stamp participation 0.144191424384<br>Voted for Trump 0.497005232361<br>Voter turn out 0.363565024799\", \"Arkansas<br>Population 2988248<br>Med. Income 42798<br>Food stamp participation 0.156916025711<br>Voted for Trump 0.625342518912<br>Voter turn out 0.36650070543\", \"California<br>Population 39250017<br>Med. Income 63636<br>Food stamp participation 0.112554651887<br>Voted for Trump 0.326901280525<br>Voter turn out 0.349454574759\", \"Colorado<br>Population 5540545<br>Med. Income 66596<br>Food stamp participation 0.0893655768521<br>Voted for Trump 0.447773298951<br>Voter turn out 0.484695097684\", \"Connecticut<br>Population 3576452<br>Med. Income 72889<br>Food stamp participation 0.12363118532<br>Voted for Trump 0.415702612533<br>Voter turn out 0.452812731724\", \"Delaware<br>Population 945934<br>Med. Income 57756<br>Food stamp participation 0.158553345159<br>Voted for Trump 0.425103389998<br>Voter turn out 0.460377785342\", \"District of Columbia<br>Population 672228<br>Med. Income 70071<br>Food stamp participation 0.211007277293<br>Voted for Trump 0.0423452118259<br>Voter turn out 0.446959960014\", \"Florida<br>Population 20612439<br>Med. Income 48825<br>Food stamp participation 0.177376825712<br>Voted for Trump 0.494955360741<br>Voter turn out 0.452634644546\", \"Georgia<br>Population 10310371<br>Med. Income 50768<br>Food stamp participation 0.174632998172<br>Voted for Trump 0.510487191661<br>Voter turn out 0.39691811284\", \"Hawaii<br>Population 1428557<br>Med. Income 64514<br>Food stamp participation 0.132227835501<br>Voted for Trump 0.312969404312<br>Voter turn out 0.288187310692\", \"Idaho<br>Population 1683140<br>Med. Income 51624<br>Food stamp participation 0.116967097211<br>Voted for Trump 0.652243239666<br>Voter turn out 0.372607745048\", \"Illinois<br>Population 12801539<br>Med. Income 60413<br>Food stamp participation 0.159535974542<br>Voted for Trump 0.394028834043<br>Voter turn out 0.425444159487\", \"Indiana<br>Population 6633053<br>Med. Income 51983<br>Food stamp participation 0.125393238981<br>Voted for Trump 0.571605910281<br>Voter turn out 0.410731679665\", \"Iowa<br>Population 3134693<br>Med. Income 60855<br>Food stamp participation 0.124804566189<br>Voted for Trump 0.529107473851<br>Voter turn out 0.482930226341\", \"Kansas<br>Population 2907289<br>Med. Income 54865<br>Food stamp participation 0.0942369334456<br>Voted for Trump 0.581759258697<br>Voter turn out 0.396736960103\", \"Kentucky<br>Population 4436974<br>Med. Income 42387<br>Food stamp participation 0.173289724033<br>Voted for Trump 0.637985613953<br>Voter turn out 0.42496913437\", \"Louisiana<br>Population 4681666<br>Med. Income 45922<br>Food stamp participation 0.183639328393<br>Voted for Trump 0.590272289748<br>Voter turn out 0.426508426701\", \"Maine<br>Population 1331479<br>Med. Income 50756<br>Food stamp participation 0.152145846836<br>Voted for Trump 0.458815776701<br>Voter turn out 0.549338742857\", \"Maryland<br>Population 6016447<br>Med. Income 73594<br>Food stamp participation 0.129816650924<br>Voted for Trump 0.349231051778<br>Voter turn out 0.448886527214\", \"Massachusetts<br>Population 6811779<br>Med. Income 67861<br>Food stamp participation 0.115355768295<br>Voted for Trump 0.33835508561<br>Voter turn out 0.473313505914\", \"Michigan<br>Population 9928301<br>Med. Income 54203<br>Food stamp participation 0.158269174152<br>Voted for Trump 0.482901029082<br>Voter turn out 0.475460806436\", \"Minnesota<br>Population 5519952<br>Med. Income 68730<br>Food stamp participation 0.0898600205219<br>Voted for Trump 0.471869238515<br>Voter turn out 0.507910032551\", \"Mississippi<br>Population 2988726<br>Med. Income 40037<br>Food stamp participation 0.212907439491<br>Voted for Trump 0.583792115173<br>Voter turn out 0.401602555738\", \"Missouri<br>Population 6093000<br>Med. Income 59196<br>Food stamp participation 0.13861759396<br>Voted for Trump 0.577107050538<br>Voter turn out 0.453461020844\", \"Montana<br>Population 1042520<br>Med. Income 51395<br>Food stamp participation 0.11422514676<br>Voted for Trump 0.575769197461<br>Voter turn out 0.465205463684\", \"Nebraska<br>Population 1907116<br>Med. Income 60474<br>Food stamp participation 0.0912854802749<br>Voted for Trump 0.605272632081<br>Voter turn out 0.429654514985\", \"Nevada<br>Population 2940058<br>Med. Income 52008<br>Food stamp participation 0.142994798062<br>Voted for Trump 0.47033807231<br>Voter turn out 0.370299497493\", \"New Hampshire<br>Population 1334795<br>Med. Income 75675<br>Food stamp participation 0.0796347004596<br>Voted for Trump 0.476890550591<br>Voter turn out 0.543224240426\", \"New Jersey<br>Population 8944469<br>Med. Income 68357<br>Food stamp participation 0.101261237531<br>Voted for Trump 0.419059311144<br>Voter turn out 0.427380093776\", \"New Mexico<br>Population 2081015<br>Med. Income 45119<br>Food stamp participation 0.217752394865<br>Voted for Trump 0.410122125985<br>Voter turn out 0.374548477546\", \"New York<br>Population 19745289<br>Med. Income 58005<br>Food stamp participation 0.153915599817<br>Voted for Trump 0.373364566999<br>Voter turn out 0.381784586693\", \"North Carolina<br>Population 10146788<br>Med. Income 50797<br>Food stamp participation 0.162238730128<br>Voted for Trump 0.504612166448<br>Voter turn out 0.461434002563\", \"North Dakota<br>Population 757952<br>Med. Income 57415<br>Food stamp participation 0.0701205353373<br>Voted for Trump 0.653021512955<br>Voter turn out 0.438003989699\", \"Ohio<br>Population 11614373<br>Med. Income 53301<br>Food stamp participation 0.144326602908<br>Voted for Trump 0.525171882114<br>Voter turn out 0.465773486007\", \"Oklahoma<br>Population 3923561<br>Med. Income 47077<br>Food stamp participation 0.152478067755<br>Voted for Trump 0.653228648196<br>Voter turn out 0.370324814626\", \"Oregon<br>Population 4093465<br>Med. Income 60834<br>Food stamp participation 0.190486299504<br>Voted for Trump 0.416450919233<br>Voter turn out 0.458960807042\", \"Pennsylvania<br>Population 12784227<br>Med. Income 60389<br>Food stamp participation 0.142884430948<br>Voted for Trump 0.491526730554<br>Voter turn out 0.472761395742\", \"Rhode Island<br>Population 1056426<br>Med. Income 55701<br>Food stamp participation 0.165676535791<br>Voted for Trump 0.40316515339<br>Voter turn out 0.423895284667\", \"South Carolina<br>Population 4961119<br>Med. Income 46360<br>Food stamp participation 0.162175509195<br>Voted for Trump 0.560877703807<br>Voter turn out 0.415222049703\", \"South Dakota<br>Population 865454<br>Med. Income 55065<br>Food stamp participation 0.113874336475<br>Voted for Trump 0.622139229405<br>Voter turn out 0.422932934622\", \"Tennessee<br>Population 6651194<br>Med. Income 47330<br>Food stamp participation 0.184837639678<br>Voted for Trump 0.618065946785<br>Voter turn out 0.370462356082\", \"Texas<br>Population 27862596<br>Med. Income 56473<br>Food stamp participation 0.13368058023<br>Voted for Trump 0.529598852958<br>Voter turn out 0.317501176129\", \"Utah<br>Population 3051217<br>Med. Income 66258<br>Food stamp participation 0.0739386939703<br>Voted for Trump 0.595288354332<br>Voter turn out 0.283662223959\", \"Vermont<br>Population 624594<br>Med. Income 59494<br>Food stamp participation 0.136078796786<br>Voted for Trump 0.33578269136<br>Voter turn out 0.454727390913\", \"Virginia<br>Population 8411808<br>Med. Income 61486<br>Food stamp participation 0.102281816228<br>Voted for Trump 0.457316130766<br>Voter turn out 0.459971268959\", \"Washington<br>Population 7288000<br>Med. Income 67243<br>Food stamp participation 0.146944703622<br>Voted for Trump 0.390916007966<br>Voter turn out 0.428834248079\", \"West Virginia<br>Population 1831102<br>Med. Income 42824<br>Food stamp participation 0.200921630799<br>Voted for Trump 0.697935875659<br>Voter turn out 0.382921868907\", \"Wisconsin<br>Population 5778708<br>Med. Income 55425<br>Food stamp participation 0.139397941547<br>Voted for Trump 0.485502474699<br>Voter turn out 0.50088947218\", \"Wyoming<br>Population 585501<br>Med. Income 60925<br>Food stamp participation 0.0556890594551<br>Voted for Trump 0.715773620213<br>Voter turn out 0.416188870728\"], \"marker\": {\"line\": {\"color\": \"rgb(255,255,255)\", \"width\": 2}}, \"colorbar\": {\"title\": \"Voter turnout (percent)\"}}], {\"title\": \"2016 US General Election Results by State<br>(Hover for more stats)\", \"geo\": {\"scope\": \"usa\", \"projection\": {\"type\": \"albers usa\"}, \"showlakes\": true, \"lakecolor\": \"rgb(255, 255, 255)\"}}, {\"showLink\": true, \"linkText\": \"Export to plot.ly\"})});</script>"
      ]
     },
     "metadata": {},
     "output_type": "display_data"
    }
   ],
   "source": [
    "import plotly\n",
    "plotly.offline.init_notebook_mode(connected=True)\n",
    "\n",
    "for col in df.columns:\n",
    "    df[col] = df[col].astype(str)\n",
    "\n",
    "scl = [[0.0, 'rgb(242,240,247)'],[0.2, 'rgb(218,218,235)'],[0.4, 'rgb(188,189,220)'],\\\n",
    "            [0.6, 'rgb(158,154,200)'],[0.8, 'rgb(117,107,177)'],[1.0, 'rgb(84,39,143)']]\n",
    "\n",
    "df['text'] = df['State'] + '<br>' +\\\n",
    "    'Population '+df['Population']+'<br>'+\\\n",
    "    'Med. Income '+df['Median_Income']+'<br>'+\\\n",
    "    'Food stamp participation '+ df['fs_perc']+'<br>'+\\\n",
    "    'Voted for Trump ' + df['Trump_perc']+'<br>'+\\\n",
    "    'Voter turn out '+df['vote_perc']\n",
    "\n",
    "data = [ dict(\n",
    "        type='choropleth',\n",
    "        colorscale = scl,\n",
    "        autocolorscale = False,\n",
    "        locations = df['Abbr'],\n",
    "        z = df['vote_perc'].astype(float),\n",
    "        locationmode = 'USA-states',\n",
    "        text = df['text'],\n",
    "        marker = dict(\n",
    "            line = dict (\n",
    "                color = 'rgb(255,255,255)',\n",
    "                width = 2\n",
    "            ) ),\n",
    "        colorbar = dict(\n",
    "            title = \"Voter turnout (percent)\")\n",
    "        ) ]\n",
    "\n",
    "layout = dict(\n",
    "        title = '2016 US General Election Results by State<br>(Hover for more stats)',\n",
    "        geo = dict(\n",
    "            scope='usa',\n",
    "            projection=dict( type='albers usa' ),\n",
    "            showlakes = True,\n",
    "            lakecolor = 'rgb(255, 255, 255)'),\n",
    "             )\n",
    "    \n",
    "fig = dict( data=data, layout=layout )\n",
    "plotly.offline.iplot( fig, filename='d3-cloropleth-map' )"
   ]
  },
  {
   "cell_type": "markdown",
   "metadata": {},
   "source": [
    "Now let's look at some associations. "
   ]
  },
  {
   "cell_type": "code",
   "execution_count": 24,
   "metadata": {
    "scrolled": true
   },
   "outputs": [
    {
     "data": {
      "image/png": "[encoded data removed]",
      "text/plain": [
       "<matplotlib.figure.Figure at 0x262a6a7bba8>"
      ]
     },
     "metadata": {},
     "output_type": "display_data"
    }
   ],
   "source": [
    "import seaborn as sns\n",
    "\n",
    "ax = sns.boxplot(x=df.Trump_win, y=df.Median_Income.astype(float))\n",
    "ax = sns.swarmplot(x=df.Trump_win, y=df.Median_Income.astype(float), color=\".25\")\n",
    "\n",
    "ax.set_title('Median Income by election outcome')\n",
    "\n",
    "plt.show()"
   ]
  },
  {
   "cell_type": "markdown",
   "metadata": {},
   "source": [
    "### Task 4\n",
    "We can also use plot.ly for boxplots. Follow the instruction and reproduce the boxplots above. "
   ]
  },
  {
   "cell_type": "code",
   "execution_count": 28,
   "metadata": {},
   "outputs": [
    {
     "data": {
      "application/vnd.plotly.v1+json": {
       "data": [
        {
         "type": "box",
         "x": [
          "True",
          "True",
          "True",
          "True",
          "False",
          "False",
          "False",
          "False",
          "False",
          "True",
          "True",
          "False",
          "True",
          "False",
          "True",
          "True",
          "True",
          "True",
          "True",
          "False",
          "False",
          "False",
          "True",
          "False",
          "True",
          "True",
          "True",
          "True",
          "False",
          "False",
          "False",
          "False",
          "False",
          "True",
          "True",
          "True",
          "True",
          "False",
          "True",
          "False",
          "True",
          "True",
          "True",
          "True",
          "True",
          "False",
          "False",
          "False",
          "True",
          "True",
          "True"
         ],
         "y": [
          44509,
          75112,
          52248,
          42798,
          63636,
          66596,
          72889,
          57756,
          70071,
          48825,
          50768,
          64514,
          51624,
          60413,
          51983,
          60855,
          54865,
          42387,
          45922,
          50756,
          73594,
          67861,
          54203,
          68730,
          40037,
          59196,
          51395,
          60474,
          52008,
          75675,
          68357,
          45119,
          58005,
          50797,
          57415,
          53301,
          47077,
          60834,
          60389,
          55701,
          46360,
          55065,
          47330,
          56473,
          66258,
          59494,
          61486,
          67243,
          42824,
          55425,
          60925
         ]
        }
       ],
       "layout": {}
      },
      "text/html": [
       "<div id=\"1e19f263-766f-4315-9590-c9caa900f613\" style=\"height: 525px; width: 100%;\" class=\"plotly-graph-div\"></div><script type=\"text/javascript\">require([\"plotly\"], function(Plotly) { window.PLOTLYENV=window.PLOTLYENV || {};window.PLOTLYENV.BASE_URL=\"https://plot.ly\";Plotly.newPlot(\"1e19f263-766f-4315-9590-c9caa900f613\", [{\"type\": \"box\", \"x\": [\"True\", \"True\", \"True\", \"True\", \"False\", \"False\", \"False\", \"False\", \"False\", \"True\", \"True\", \"False\", \"True\", \"False\", \"True\", \"True\", \"True\", \"True\", \"True\", \"False\", \"False\", \"False\", \"True\", \"False\", \"True\", \"True\", \"True\", \"True\", \"False\", \"False\", \"False\", \"False\", \"False\", \"True\", \"True\", \"True\", \"True\", \"False\", \"True\", \"False\", \"True\", \"True\", \"True\", \"True\", \"True\", \"False\", \"False\", \"False\", \"True\", \"True\", \"True\"], \"y\": [44509.0, 75112.0, 52248.0, 42798.0, 63636.0, 66596.0, 72889.0, 57756.0, 70071.0, 48825.0, 50768.0, 64514.0, 51624.0, 60413.0, 51983.0, 60855.0, 54865.0, 42387.0, 45922.0, 50756.0, 73594.0, 67861.0, 54203.0, 68730.0, 40037.0, 59196.0, 51395.0, 60474.0, 52008.0, 75675.0, 68357.0, 45119.0, 58005.0, 50797.0, 57415.0, 53301.0, 47077.0, 60834.0, 60389.0, 55701.0, 46360.0, 55065.0, 47330.0, 56473.0, 66258.0, 59494.0, 61486.0, 67243.0, 42824.0, 55425.0, 60925.0]}], {}, {\"showLink\": true, \"linkText\": \"Export to plot.ly\"})});</script>"
      ],
      "text/vnd.plotly.v1+html": [
       "<div id=\"1e19f263-766f-4315-9590-c9caa900f613\" style=\"height: 525px; width: 100%;\" class=\"plotly-graph-div\"></div><script type=\"text/javascript\">require([\"plotly\"], function(Plotly) { window.PLOTLYENV=window.PLOTLYENV || {};window.PLOTLYENV.BASE_URL=\"https://plot.ly\";Plotly.newPlot(\"1e19f263-766f-4315-9590-c9caa900f613\", [{\"type\": \"box\", \"x\": [\"True\", \"True\", \"True\", \"True\", \"False\", \"False\", \"False\", \"False\", \"False\", \"True\", \"True\", \"False\", \"True\", \"False\", \"True\", \"True\", \"True\", \"True\", \"True\", \"False\", \"False\", \"False\", \"True\", \"False\", \"True\", \"True\", \"True\", \"True\", \"False\", \"False\", \"False\", \"False\", \"False\", \"True\", \"True\", \"True\", \"True\", \"False\", \"True\", \"False\", \"True\", \"True\", \"True\", \"True\", \"True\", \"False\", \"False\", \"False\", \"True\", \"True\", \"True\"], \"y\": [44509.0, 75112.0, 52248.0, 42798.0, 63636.0, 66596.0, 72889.0, 57756.0, 70071.0, 48825.0, 50768.0, 64514.0, 51624.0, 60413.0, 51983.0, 60855.0, 54865.0, 42387.0, 45922.0, 50756.0, 73594.0, 67861.0, 54203.0, 68730.0, 40037.0, 59196.0, 51395.0, 60474.0, 52008.0, 75675.0, 68357.0, 45119.0, 58005.0, 50797.0, 57415.0, 53301.0, 47077.0, 60834.0, 60389.0, 55701.0, 46360.0, 55065.0, 47330.0, 56473.0, 66258.0, 59494.0, 61486.0, 67243.0, 42824.0, 55425.0, 60925.0]}], {}, {\"showLink\": true, \"linkText\": \"Export to plot.ly\"})});</script>"
      ]
     },
     "metadata": {},
     "output_type": "display_data"
    }
   ],
   "source": [
    "import plotly.graph_objs as go\n",
    "\n",
    "trace0 = go.Box(x=df.Trump_win, y=df.Median_Income.astype(float))\n",
    "#trace1 = go.Swarm(x=df.Trump_win, y=df.Median_Income.astype(float))\n",
    "data = [trace0]\n",
    "plotly.offline.iplot(data)"
   ]
  },
  {
   "cell_type": "code",
   "execution_count": null,
   "metadata": {
    "collapsed": true,
    "scrolled": true
   },
   "outputs": [],
   "source": [
    "fig, ax = plt.subplots()\n",
    "ax.scatter(df.fs_perc.astype(float), df.Trump_perc.astype(float))\n",
    "\n",
    "ax.set_title('Food stamp percent versus Trump support')\n",
    "ax.set_xlabel('Food stamp percent')\n",
    "ax.set_ylabel('Trump support')\n",
    "\n",
    "for i, txt in enumerate(df.Abbr):\n",
    "    ax.annotate(txt, (df.fs_perc.astype(float)[i],df.Trump_perc.astype(float)[i]))\n",
    "\n",
    "plt.show()"
   ]
  },
  {
   "cell_type": "markdown",
   "metadata": {},
   "source": [
    "### Task 5\n",
    "\n",
    "Make a new plot using this data set following one example from [Matplotlib Gallery](https://matplotlib.org/gallery/index.html)."
   ]
  },
  {
   "cell_type": "code",
   "execution_count": null,
   "metadata": {
    "collapsed": true
   },
   "outputs": [],
   "source": []
  }
 ],
 "metadata": {
  "anaconda-cloud": {},
  "kernelspec": {
   "display_name": "Python 3",
   "language": "python",
   "name": "python3"
  },
  "language_info": {
   "codemirror_mode": {
    "name": "ipython",
    "version": 3
   },
   "file_extension": ".py",
   "mimetype": "text/x-python",
   "name": "python",
   "nbconvert_exporter": "python",
   "pygments_lexer": "ipython3",
   "version": "3.6.1"
  }
 },
 "nbformat": 4,
 "nbformat_minor": 2
}
